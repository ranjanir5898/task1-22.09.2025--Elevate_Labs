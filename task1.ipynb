{
 "cells": [
  {
   "cell_type": "code",
   "execution_count": 14,
   "id": "ef7099e7",
   "metadata": {},
   "outputs": [],
   "source": [
    "import pandas as pd\n",
    "\n",
    "# Example: Load dataset (replace with your file path)\n",
    "df = pd.read_csv(\"task 1 csv.csv\")"
   ]
  },
  {
   "cell_type": "code",
   "execution_count": 15,
   "id": "0cb3b427",
   "metadata": {},
   "outputs": [
    {
     "name": "stdout",
     "output_type": "stream",
     "text": [
      "Missing values before handling:\n",
      " PatientId         0\n",
      "AppointmentID     0\n",
      "Gender            0\n",
      "ScheduledDay      0\n",
      "AppointmentDay    0\n",
      "Age               0\n",
      "Neighbourhood     0\n",
      "Scholarship       0\n",
      "Hipertension      0\n",
      "Diabetes          0\n",
      "Alcoholism        0\n",
      "Handcap           0\n",
      "SMS_received      0\n",
      "No-show           0\n",
      "dtype: int64\n",
      "\n",
      "Missing values after handling:\n",
      " PatientId         0\n",
      "AppointmentID     0\n",
      "Gender            0\n",
      "ScheduledDay      0\n",
      "AppointmentDay    0\n",
      "Age               0\n",
      "Neighbourhood     0\n",
      "Scholarship       0\n",
      "Hipertension      0\n",
      "Diabetes          0\n",
      "Alcoholism        0\n",
      "Handcap           0\n",
      "SMS_received      0\n",
      "No-show           0\n",
      "dtype: int64\n"
     ]
    },
    {
     "name": "stderr",
     "output_type": "stream",
     "text": [
      "C:\\Users\\HP\\AppData\\Local\\Temp\\ipykernel_1164\\3008917255.py:7: FutureWarning: A value is trying to be set on a copy of a DataFrame or Series through chained assignment using an inplace method.\n",
      "The behavior will change in pandas 3.0. This inplace method will never work because the intermediate object on which we are setting values always behaves as a copy.\n",
      "\n",
      "For example, when doing 'df[col].method(value, inplace=True)', try using 'df.method({col: value}, inplace=True)' or df[col] = df[col].method(value) instead, to perform the operation inplace on the original object.\n",
      "\n",
      "\n",
      "  df[col].fillna(df[col].mean(), inplace=True)\n",
      "C:\\Users\\HP\\AppData\\Local\\Temp\\ipykernel_1164\\3008917255.py:9: FutureWarning: A value is trying to be set on a copy of a DataFrame or Series through chained assignment using an inplace method.\n",
      "The behavior will change in pandas 3.0. This inplace method will never work because the intermediate object on which we are setting values always behaves as a copy.\n",
      "\n",
      "For example, when doing 'df[col].method(value, inplace=True)', try using 'df.method({col: value}, inplace=True)' or df[col] = df[col].method(value) instead, to perform the operation inplace on the original object.\n",
      "\n",
      "\n",
      "  df[col].fillna(df[col].mode()[0], inplace=True)\n"
     ]
    }
   ],
   "source": [
    "# 1. Identify and handle missing values\n",
    "print(\"Missing values before handling:\\n\", df.isnull().sum())\n",
    "\n",
    "# Example strategy: fill numeric with mean, categorical with mode\n",
    "for col in df.columns:\n",
    "    if df[col].dtype in ['int64', 'float64']:\n",
    "        df[col].fillna(df[col].mean(), inplace=True)\n",
    "    else:\n",
    "        df[col].fillna(df[col].mode()[0], inplace=True)\n",
    "\n",
    "print(\"\\nMissing values after handling:\\n\", df.isnull().sum())"
   ]
  },
  {
   "cell_type": "code",
   "execution_count": 16,
   "id": "377b1e5d",
   "metadata": {},
   "outputs": [],
   "source": [
    "# 2. Remove duplicate rows\n",
    "df.drop_duplicates(inplace=True)"
   ]
  },
  {
   "cell_type": "code",
   "execution_count": 38,
   "id": "0940368c",
   "metadata": {},
   "outputs": [],
   "source": [
    "\n",
    "# 3. Standardize text values (example: Gender, Country)\n",
    "# Convert all text columns to lowercase and strip spaces\n",
    "for col in df.select_dtypes(include='object').columns:\n",
    "    df[col] = df[col].str.strip().str.lower()\n",
    "df['gender'] = df['gender'].astype(str).str.strip().str.upper().map({\n",
    "    'F': 'female',\n",
    "    'M': 'male'\n",
    "})"
   ]
  },
  {
   "cell_type": "code",
   "execution_count": null,
   "id": "6dbbcbaf",
   "metadata": {},
   "outputs": [],
   "source": [
    "# 4. Convert date formats to a consistent type\n",
    "\n",
    "# --- Convert scheduledday to datetime if it exists ---\n",
    "if 'scheduledday' in df.columns:\n",
    "\tdf['scheduledday'] = pd.to_datetime(df['scheduledday'], errors='coerce')\n",
    "\t# Extract date (dd-mm-yyyy) and replace original column\n",
    "\tdf['scheduled_date'] = df['scheduledday'].dt.strftime('%d-%m-%Y')\n",
    "\t# Extract time (HH:MM:SS) and create new column\n",
    "\tdf['scheduled_time'] = df['scheduledday'].dt.strftime('%H:%M:%S')\n",
    "\t# Drop old scheduledday column if you don’t need it\n",
    "\tdf.drop(columns=['scheduledday'], inplace=True)\n",
    "\n",
    "# --- Do the same for appointmentday if needed ---\n",
    "if 'appointmentday' in df.columns:\n",
    "\tdf['appointmentday'] = pd.to_datetime(df['appointmentday'], errors='coerce')\n",
    "\tdf['appointment_date'] = df['appointmentday'].dt.strftime('%d-%m-%Y')\n",
    "\tdf['appointment_time'] = df['appointmentday'].dt.strftime('%H:%M:%S')\n",
    "\tdf.drop(columns=['appointmentday'], inplace=True)\n",
    "\n"
   ]
  },
  {
   "cell_type": "code",
   "execution_count": 57,
   "id": "235777e6",
   "metadata": {},
   "outputs": [],
   "source": [
    "# 5. Rename column headers (lowercase, no spaces)\n",
    "df.columns = df.columns.str.strip().str.lower().str.replace(' ', '_')\n",
    "df.drop(columns=['appointment_time'], inplace=True)"
   ]
  },
  {
   "cell_type": "code",
   "execution_count": 59,
   "id": "afd3879b",
   "metadata": {},
   "outputs": [
    {
     "name": "stdout",
     "output_type": "stream",
     "text": [
      "cleaned_data.csv\n",
      "\n",
      " Data cleaning completed! Cleaned file saved as 'cleaned_data.csv'\n"
     ]
    }
   ],
   "source": [
    "# 6. Check and fix data types\n",
    "if 'age' in df.columns:\n",
    "    df['age'] = df['age'].astype(int, errors='ignore')  # if convertible\n",
    "if 'date' in df.columns:\n",
    "    df['date'] = pd.to_datetime(df['date'], errors='coerce')\n",
    "\n",
    "# Save cleaned data\n",
    "df.to_csv(\"cleaned_data.csv\", index=False)\n",
    "print(\"cleaned_data.csv\")\n",
    "print(\"\\n Data cleaning completed! Cleaned file saved as 'cleaned_data.csv'\")\n"
   ]
  }
 ],
 "metadata": {
  "kernelspec": {
   "display_name": "base",
   "language": "python",
   "name": "python3"
  },
  "language_info": {
   "codemirror_mode": {
    "name": "ipython",
    "version": 3
   },
   "file_extension": ".py",
   "mimetype": "text/x-python",
   "name": "python",
   "nbconvert_exporter": "python",
   "pygments_lexer": "ipython3",
   "version": "3.12.7"
  }
 },
 "nbformat": 4,
 "nbformat_minor": 5
}
